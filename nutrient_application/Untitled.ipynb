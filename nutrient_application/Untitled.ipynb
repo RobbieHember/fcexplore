{
 "cells": [
  {
   "cell_type": "markdown",
   "metadata": {},
   "source": [
    "# Provincial Fertilization Program - Summary Attributes"
   ]
  },
  {
   "cell_type": "code",
   "execution_count": null,
   "metadata": {},
   "outputs": [],
   "source": [
    "# Import Python modules\n",
    "import os\n",
    "import glob\n",
    "import numpy as np\n",
    "import pandas as pd\n",
    "import matplotlib.pyplot as plt\n",
    "import time\n",
    "import gc as garc\n",
    "import scipy.stats as stats\n",
    "from fcgadgets.macgyver import utilities_general as gu\n",
    "from fcgadgets.macgyver import utilities_gis as gis\n",
    "from fcgadgets.macgyver import utilities_inventory as invu\n",
    "from fcgadgets.cbrunner import cbrun_utilities as cbu\n",
    "from fcgadgets.cbrunner import cbrun_utilities as cbu\n"
   ]
  },
  {
   "cell_type": "code",
   "execution_count": null,
   "metadata": {},
   "outputs": [],
   "source": [
    "# Set figure properties\n",
    "fs=6\n",
    "params={'font.sans-serif':'Arial','font.size':fs,'axes.edgecolor':'black','axes.labelsize':fs,'axes.labelcolor':'black','axes.titlesize':fs,'axes.linewidth':0.5,'lines.linewidth':0.5,\n",
    "        'text.color':'black','xtick.color':'black','xtick.labelsize':fs,'xtick.major.width':0.5,'xtick.major.size':3,'xtick.direction':'in','ytick.color':'black','ytick.labelsize':fs,\n",
    "        'ytick.major.width':0.5,'ytick.major.size':3,'ytick.direction':'in','legend.fontsize':fs,'savefig.dpi':300,'savefig.transparent':True}\n",
    "plt.rcParams.update(params)"
   ]
  },
  {
   "cell_type": "code",
   "execution_count": null,
   "metadata": {},
   "outputs": [],
   "source": [
    "# Initiate metadata structure and import paths\n",
    "meta={}\n",
    "meta=gu.ipickle(r'D:\\Data\\FCI_Projects\\SummaryNutrientManagementFull\\Inputs\\Metadata.pkl')\n",
    "meta['Paths']['Geospatial']=meta['Paths']['Project'] + '\\\\Geospatial'\n",
    "meta['Paths']['Model Code']=r'C:\\Users\\rhember\\Documents\\Code_Python\\fcgadgets\\cbrunner'\n",
    "meta['Paths']['Taz Datasets']=r'C:\\Users\\rhember\\Documents\\Data\\Taz Datasets'"
   ]
  },
  {
   "cell_type": "code",
   "execution_count": null,
   "metadata": {},
   "outputs": [],
   "source": [
    "#Configuration\n",
    "meta['Project']={}\n",
    "meta['Project']['N Stand']=sxy['x'].size\n",
    "meta=cbu.ImportProjectConfig(meta)"
   ]
  },
  {
   "cell_type": "code",
   "execution_count": null,
   "metadata": {},
   "outputs": [],
   "source": [
    "# Open invnetory files\n",
    "sxy,atu,op,burnsev,vri,fcinv,fcsilv,fcres,pl,fire,pest,cut,lul,park,ogmal=invu.LoadSparseGeospatialInputs(meta)\n",
    "idx=invu.LoadSparseGridIndex(meta)"
   ]
  },
  {
   "cell_type": "code",
   "execution_count": null,
   "metadata": {},
   "outputs": [],
   "source": [
    "# Extract disturbance/management event chronology from inventory layers\n",
    "flag_use_saved_file=1\n",
    "if flag_use_saved_file==0:\n",
    "    dmec=invu.PrepDMEC(idx,meta,atu,pl,op,fcinv,vri,cut,fire,burnsev,pest)\n",
    "    gu.opickle(meta['Paths']['Project'] + '//Inputs//dmec.pkl',dmec)\n",
    "else:\n",
    "    dmec=gu.ipickle(meta['Paths']['Project'] + '//Inputs//dmec.pkl')"
   ]
  },
  {
   "cell_type": "code",
   "execution_count": null,
   "metadata": {},
   "outputs": [],
   "source": [
    "# Define strings that frequently need to be populated with zeros\n",
    "StringsToFill=['Month','Day','SILV_FUND_SOURCE_CODE','FIA_PROJECT_ID','OPENING_ID','ACTUAL_TREATMENT_AREA','ACTUAL_PLANTED_NUMBER', \\\n",
    "               'PL_SPECIES_CD1','PL_SPECIES_PCT1','PL_SPECIES_GW1','PL_SPECIES_CD2','PL_SPECIES_PCT2','PL_SPECIES_GW2', \\\n",
    "               'PL_SPECIES_CD3','PL_SPECIES_PCT3','PL_SPECIES_GW3','PL_SPECIES_CD4','PL_SPECIES_PCT4','PL_SPECIES_GW4', \\\n",
    "               'PL_SPECIES_CD5','PL_SPECIES_PCT5','PL_SPECIES_GW5']"
   ]
  },
  {
   "cell_type": "code",
   "execution_count": null,
   "metadata": {},
   "outputs": [],
   "source": [
    "# Exclude duplicate events\n",
    "if meta['Project']['Exclude duplicate events']=='On':\n",
    "    dmec=invu.Exclude_Duplicate_Events(meta,dmec)"
   ]
  },
  {
   "cell_type": "code",
   "execution_count": null,
   "metadata": {},
   "outputs": [],
   "source": [
    "# Exclude unidentified activities or disturbances\n",
    "if meta['Project']['Exclude unidentified events']=='On':\n",
    "    dmec=invu.Exclude_Unidentified_Events(meta,dmec)"
   ]
  },
  {
   "cell_type": "code",
   "execution_count": null,
   "metadata": {},
   "outputs": [],
   "source": [
    "# Put events in order\n",
    "dmec=invu.PutEventsInOrder(dmec,meta)"
   ]
  },
  {
   "cell_type": "code",
   "execution_count": null,
   "metadata": {},
   "outputs": [],
   "source": []
  },
  {
   "cell_type": "code",
   "execution_count": null,
   "metadata": {},
   "outputs": [],
   "source": []
  }
 ],
 "metadata": {
  "hide_input": false,
  "kernelspec": {
   "display_name": "Python 3",
   "language": "python",
   "name": "python3"
  },
  "language_info": {
   "codemirror_mode": {
    "name": "ipython",
    "version": 3
   },
   "file_extension": ".py",
   "mimetype": "text/x-python",
   "name": "python",
   "nbconvert_exporter": "python",
   "pygments_lexer": "ipython3",
   "version": "3.7.4"
  },
  "toc": {
   "base_numbering": 1,
   "nav_menu": {},
   "number_sections": true,
   "sideBar": true,
   "skip_h1_title": false,
   "title_cell": "Table of Contents",
   "title_sidebar": "Contents",
   "toc_cell": false,
   "toc_position": {},
   "toc_section_display": true,
   "toc_window_display": false
  }
 },
 "nbformat": 4,
 "nbformat_minor": 2
}
