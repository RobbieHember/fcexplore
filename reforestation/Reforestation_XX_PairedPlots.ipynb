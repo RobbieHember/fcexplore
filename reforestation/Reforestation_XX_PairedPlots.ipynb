#%% Import Python modules

import os
import numpy as np
import pandas as pd
import matplotlib.pyplot as plt
import pickle
import geopandas as gpd
import openpyxl
import gdal
import time
import gc as garc
from scipy import stats
from numpy import matlib as mb
from shapely.geometry import Point
from fcgadgets.utilities import utilities_general as gu
from fcgadgets.utilities import utilities_gis as gis
from fcgadgets.utilities import utilities_inventory as invu
from fcgadgets.cbrunner import cbrun_utilities as cbu
from fcgadgets.cbrunner import cbrun as cbr

#%% Import paths

meta={}
meta['Paths']=gu.ipickle(r'C:\Users\rhember\Documents\Data\FCI_Projects\FCI_RollupFCI_Inv\Inputs\Paths.pkl')

#%% Import polygons

gdf_poly=gpd.read_file(meta['Paths']['Project'] + '\\Geospatial\\atu_polygons.shp')

# Isolate planting
gdf_poly=gdf_poly[gdf_poly['SILV_BASE_']=='PL']
gdf_poly=gdf_poly.reset_index()

#%% Get buffer around polygons 

gdf_poly_buf=gdf_poly.buffer(2000)
gdf_poly_buf=gpd.GeoDataFrame(gdf_poly_buf)
gdf_poly_buf=gdf_poly_buf.rename(columns={0:'geometry'}).set_geometry('geometry')
gdf_poly_buf.crs=gdf_poly.crs

#plt.close('all'); fig,ax=plt.subplots(1)
#gdf_poly_buf.plot(ax=ax,edgecolor=[1,1,0],facecolor=[1,0.8,0.2],linewidth=1.5)
#gdf_poly.plot(ax=ax,edgecolor=[1,0,0],facecolor=[1,0.8,0.8],linewidth=0.5)


#%% Import grid data

gpg=gu.ReadExcel(r'C:\Users\rhember\Documents\Data\GroundPlots\YSM and CMI Grid Coordinates\ground_plot_grid.xlsx')
points=[]
for k in range(gpg['x'].size):
    points.append(Point(gpg['x'][k],gpg['y'][k]))
gdf_gpg=gpd.GeoDataFrame({'geometry':points,'ID_TSA':1})
gdf_gpg.crs=gdf_poly.crs

gpe=gu.ReadExcel(r'C:\Users\rhember\Documents\Data\GroundPlots\YSM and CMI Grid Coordinates\ground_plot_grid_existing.xlsx')
points=[]
for k in range(gpe['bcalb_x'].size):
    points.append(Point(gpe['bcalb_x'][k],gpe['bcalb_y'][k]))
gdf_gpe=gpd.GeoDataFrame({'geometry':points,'ID_TSA':1})
gdf_gpe.crs=gdf_poly.crs


#%%

gdf_gpg_inprox=gpd.sjoin(gdf_gpg,gdf_poly_buf,how="inner",op='intersects')

#%%

gdf_bm=gpd.read_file(r'C:\Users\rhember\Documents\Data\Basemaps\bc_land.shp')

gdf_riv=gpd.read_file(r'C:\Users\rhember\Documents\Data\Basemaps\Basemaps.gdb',layer='NRC_RIVERS_1M_SP')

#gdf_lakes=gpd.overlay(gdf_bm[(gdf_bm['TAG']=='lake')],gdf_tile[(gdf_tile['i']==iTile) & (gdf_tile['j']==jTile)],how='intersection')

gdf_road=gpd.read_file(r'C:\Users\rhember\Documents\Data\Basemaps\roads.shp')

#%% Plot

plt.close('all'); fig,ax=plt.subplots(1)
#im=ax[0].matshow(zBTM.Data1,clim=(0,N_color),extent=zBTM['Extent'],cmap=cm)
gdf_bm.plot(ax=ax,edgecolor=[0,0,0],facecolor='none',linewidth=0.25)
gdf_road.plot(ax=ax,facecolor='none',edgecolor=[0,0,0],label='Roads',linewidth=0.75,alpha=1,zorder=1)
gdf_riv.plot(ax=ax,facecolor='none',edgecolor=[0.7,0.8,1],label='Roads',linewidth=0.75,alpha=1,zorder=2)
#gdf_lakes.plot(ax=ax[0],facecolor=[0.82,0.88,1],edgecolor=[0.7*0.82,0.7*0.88,0.7*1],linewidth=0.25,label='Water')

gdf_poly_buf.plot(ax=ax,edgecolor=[1,1,0.4],facecolor=[1,1,0.65],linewidth=1.5)
gdf_poly.plot(ax=ax,edgecolor=[1,0,0],facecolor=[1,0.8,0.8],linewidth=0.5)

gdf_gpe.plot(ax=ax,marker='s',edgecolor=[0,0.8,0],facecolor=[0.6,1,0],linewidth=0.5,markersize=20)
gdf_gpg_inprox.plot(ax=ax,marker='o',edgecolor=[0,0,1],facecolor=[0,1,1],linewidth=0.5,markersize=16)

ax.set(position=[0.04,0.04,0.92,0.92],aspect='auto')
ax.grid(False)
ax.yaxis.set_ticks_position('both'); ax.xaxis.set_ticks_position('both')

gu.PrintFig(r'C:\Users\rhember\OneDrive - Government of BC\Figures\Reforestation\ReforestationPairedPlots\Quesnel Area','png',300)
